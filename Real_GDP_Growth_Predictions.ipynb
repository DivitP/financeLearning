{
 "cells": [
  {
   "cell_type": "code",
   "execution_count": 126,
   "metadata": {
    "ExecuteTime": {
     "end_time": "2021-04-16T00:08:32.172640Z",
     "start_time": "2021-04-16T00:08:31.635143Z"
    }
   },
   "outputs": [],
   "source": [
    "%matplotlib inline\n",
    "\n",
    "import numpy as np\n",
    "import pandas as pd\n",
    "\n",
    "import matplotlib.pyplot as plt\n",
    "import seaborn as sns\n",
    "\n",
    "from sklearn.preprocessing import scale\n",
    "from sklearn.model_selection import train_test_split\n",
    "\n",
    "import statsmodels.api as sm\n",
    "from sklearn.preprocessing import StandardScaler\n",
    "\n",
    "from sklearn.ensemble import RandomForestRegressor\n",
    "from statsmodels.stats.outliers_influence import variance_inflation_factor\n",
    "\n",
    "\n",
    "from sklearn.linear_model import LinearRegression, RidgeCV, LassoCV, ElasticNetCV\n",
    "from sklearn.metrics import mean_absolute_error, mean_squared_error, r2_score"
   ]
  },
  {
   "cell_type": "code",
   "execution_count": 127,
   "metadata": {},
   "outputs": [
    {
     "name": "stdout",
     "output_type": "stream",
     "text": [
      "<class 'pandas.core.frame.DataFrame'>\n",
      "Index: 2399 entries, 11/1/1999 to 9/1/2019\n",
      "Data columns (total 6 columns):\n",
      " #   Column       Non-Null Count  Dtype  \n",
      "---  ------       --------------  -----  \n",
      " 0   Country      2399 non-null   object \n",
      " 1   realGdpRate  2399 non-null   float64\n",
      " 2   realPersInc  2399 non-null   float64\n",
      " 3   unempRate    2399 non-null   float64\n",
      " 4   indProd      2399 non-null   float64\n",
      " 5   retailSales  2399 non-null   float64\n",
      "dtypes: float64(5), object(1)\n",
      "memory usage: 131.2+ KB\n"
     ]
    }
   ],
   "source": [
    "# loading the csv data set from local directory\n",
    "OECD = pd.read_csv('OECD_DATA.csv'); OECD = OECD.set_index('Date')\n",
    "OECD.info()"
   ]
  },
  {
   "cell_type": "code",
   "execution_count": 128,
   "metadata": {
    "scrolled": true
   },
   "outputs": [
    {
     "data": {
      "text/html": [
       "<div>\n",
       "<style scoped>\n",
       "    .dataframe tbody tr th:only-of-type {\n",
       "        vertical-align: middle;\n",
       "    }\n",
       "\n",
       "    .dataframe tbody tr th {\n",
       "        vertical-align: top;\n",
       "    }\n",
       "\n",
       "    .dataframe thead th {\n",
       "        text-align: right;\n",
       "    }\n",
       "</style>\n",
       "<table border=\"1\" class=\"dataframe\">\n",
       "  <thead>\n",
       "    <tr style=\"text-align: right;\">\n",
       "      <th></th>\n",
       "      <th>Country</th>\n",
       "      <th>realGdpRate</th>\n",
       "      <th>realPersInc</th>\n",
       "      <th>unempRate</th>\n",
       "      <th>indProd</th>\n",
       "      <th>retailSales</th>\n",
       "    </tr>\n",
       "    <tr>\n",
       "      <th>Date</th>\n",
       "      <th></th>\n",
       "      <th></th>\n",
       "      <th></th>\n",
       "      <th></th>\n",
       "      <th></th>\n",
       "      <th></th>\n",
       "    </tr>\n",
       "  </thead>\n",
       "  <tbody>\n",
       "    <tr>\n",
       "      <th>11/1/1999</th>\n",
       "      <td>USA</td>\n",
       "      <td>0.000988</td>\n",
       "      <td>120.886465</td>\n",
       "      <td>0.041</td>\n",
       "      <td>89.75</td>\n",
       "      <td>85.8164</td>\n",
       "    </tr>\n",
       "    <tr>\n",
       "      <th>12/1/1999</th>\n",
       "      <td>USA</td>\n",
       "      <td>0.000691</td>\n",
       "      <td>120.702974</td>\n",
       "      <td>0.040</td>\n",
       "      <td>90.44</td>\n",
       "      <td>87.4060</td>\n",
       "    </tr>\n",
       "    <tr>\n",
       "      <th>1/1/2000</th>\n",
       "      <td>USA</td>\n",
       "      <td>0.000592</td>\n",
       "      <td>120.649898</td>\n",
       "      <td>0.040</td>\n",
       "      <td>90.46</td>\n",
       "      <td>86.4326</td>\n",
       "    </tr>\n",
       "    <tr>\n",
       "      <th>2/1/2000</th>\n",
       "      <td>USA</td>\n",
       "      <td>0.000591</td>\n",
       "      <td>120.657155</td>\n",
       "      <td>0.041</td>\n",
       "      <td>90.73</td>\n",
       "      <td>87.3692</td>\n",
       "    </tr>\n",
       "    <tr>\n",
       "      <th>3/1/2000</th>\n",
       "      <td>USA</td>\n",
       "      <td>0.000690</td>\n",
       "      <td>120.614413</td>\n",
       "      <td>0.040</td>\n",
       "      <td>91.05</td>\n",
       "      <td>87.8100</td>\n",
       "    </tr>\n",
       "  </tbody>\n",
       "</table>\n",
       "</div>"
      ],
      "text/plain": [
       "          Country  realGdpRate  realPersInc  unempRate  indProd  retailSales\n",
       "Date                                                                        \n",
       "11/1/1999     USA     0.000988   120.886465      0.041    89.75      85.8164\n",
       "12/1/1999     USA     0.000691   120.702974      0.040    90.44      87.4060\n",
       "1/1/2000      USA     0.000592   120.649898      0.040    90.46      86.4326\n",
       "2/1/2000      USA     0.000591   120.657155      0.041    90.73      87.3692\n",
       "3/1/2000      USA     0.000690   120.614413      0.040    91.05      87.8100"
      ]
     },
     "execution_count": 128,
     "metadata": {},
     "output_type": "execute_result"
    }
   ],
   "source": [
    "OECD.head()"
   ]
  },
  {
   "cell_type": "code",
   "execution_count": 129,
   "metadata": {},
   "outputs": [],
   "source": [
    "# Standardizing ONLY the numerical features\n",
    "FEATURES = ['realPersInc', 'unempRate', 'indProd', 'retailSales']\n",
    "OECD.loc[:, FEATURES] = scale(OECD.loc[:,FEATURES])"
   ]
  },
  {
   "cell_type": "code",
   "execution_count": 130,
   "metadata": {},
   "outputs": [
    {
     "data": {
      "text/html": [
       "<div>\n",
       "<style scoped>\n",
       "    .dataframe tbody tr th:only-of-type {\n",
       "        vertical-align: middle;\n",
       "    }\n",
       "\n",
       "    .dataframe tbody tr th {\n",
       "        vertical-align: top;\n",
       "    }\n",
       "\n",
       "    .dataframe thead th {\n",
       "        text-align: right;\n",
       "    }\n",
       "</style>\n",
       "<table border=\"1\" class=\"dataframe\">\n",
       "  <thead>\n",
       "    <tr style=\"text-align: right;\">\n",
       "      <th></th>\n",
       "      <th>Country</th>\n",
       "      <th>realGdpRate</th>\n",
       "      <th>realPersInc</th>\n",
       "      <th>unempRate</th>\n",
       "      <th>indProd</th>\n",
       "      <th>retailSales</th>\n",
       "    </tr>\n",
       "    <tr>\n",
       "      <th>Date</th>\n",
       "      <th></th>\n",
       "      <th></th>\n",
       "      <th></th>\n",
       "      <th></th>\n",
       "      <th></th>\n",
       "      <th></th>\n",
       "    </tr>\n",
       "  </thead>\n",
       "  <tbody>\n",
       "    <tr>\n",
       "      <th>11/1/1999</th>\n",
       "      <td>USA</td>\n",
       "      <td>0.000988</td>\n",
       "      <td>1.796302</td>\n",
       "      <td>-0.821803</td>\n",
       "      <td>-0.808932</td>\n",
       "      <td>-0.384360</td>\n",
       "    </tr>\n",
       "    <tr>\n",
       "      <th>12/1/1999</th>\n",
       "      <td>USA</td>\n",
       "      <td>0.000691</td>\n",
       "      <td>1.775151</td>\n",
       "      <td>-0.871149</td>\n",
       "      <td>-0.748722</td>\n",
       "      <td>-0.286125</td>\n",
       "    </tr>\n",
       "    <tr>\n",
       "      <th>1/1/2000</th>\n",
       "      <td>USA</td>\n",
       "      <td>0.000592</td>\n",
       "      <td>1.769032</td>\n",
       "      <td>-0.871149</td>\n",
       "      <td>-0.746977</td>\n",
       "      <td>-0.346280</td>\n",
       "    </tr>\n",
       "    <tr>\n",
       "      <th>2/1/2000</th>\n",
       "      <td>USA</td>\n",
       "      <td>0.000591</td>\n",
       "      <td>1.769869</td>\n",
       "      <td>-0.821803</td>\n",
       "      <td>-0.723416</td>\n",
       "      <td>-0.288399</td>\n",
       "    </tr>\n",
       "    <tr>\n",
       "      <th>3/1/2000</th>\n",
       "      <td>USA</td>\n",
       "      <td>0.000690</td>\n",
       "      <td>1.764942</td>\n",
       "      <td>-0.871149</td>\n",
       "      <td>-0.695493</td>\n",
       "      <td>-0.261159</td>\n",
       "    </tr>\n",
       "  </tbody>\n",
       "</table>\n",
       "</div>"
      ],
      "text/plain": [
       "          Country  realGdpRate  realPersInc  unempRate   indProd  retailSales\n",
       "Date                                                                         \n",
       "11/1/1999     USA     0.000988     1.796302  -0.821803 -0.808932    -0.384360\n",
       "12/1/1999     USA     0.000691     1.775151  -0.871149 -0.748722    -0.286125\n",
       "1/1/2000      USA     0.000592     1.769032  -0.871149 -0.746977    -0.346280\n",
       "2/1/2000      USA     0.000591     1.769869  -0.821803 -0.723416    -0.288399\n",
       "3/1/2000      USA     0.000690     1.764942  -0.871149 -0.695493    -0.261159"
      ]
     },
     "execution_count": 130,
     "metadata": {},
     "output_type": "execute_result"
    }
   ],
   "source": [
    "OECD.head()"
   ]
  },
  {
   "cell_type": "code",
   "execution_count": 131,
   "metadata": {},
   "outputs": [
    {
     "data": {
      "text/html": [
       "<div>\n",
       "<style scoped>\n",
       "    .dataframe tbody tr th:only-of-type {\n",
       "        vertical-align: middle;\n",
       "    }\n",
       "\n",
       "    .dataframe tbody tr th {\n",
       "        vertical-align: top;\n",
       "    }\n",
       "\n",
       "    .dataframe thead th {\n",
       "        text-align: right;\n",
       "    }\n",
       "</style>\n",
       "<table border=\"1\" class=\"dataframe\">\n",
       "  <thead>\n",
       "    <tr style=\"text-align: right;\">\n",
       "      <th></th>\n",
       "      <th>realGdpRate</th>\n",
       "      <th>realPersInc</th>\n",
       "      <th>unempRate</th>\n",
       "      <th>indProd</th>\n",
       "      <th>retailSales</th>\n",
       "      <th>Country_Denmark</th>\n",
       "      <th>Country_France</th>\n",
       "      <th>Country_Germany</th>\n",
       "      <th>Country_Japan</th>\n",
       "      <th>Country_Korea</th>\n",
       "      <th>Country_Luxembourg</th>\n",
       "      <th>Country_Netherlands</th>\n",
       "      <th>Country_UK</th>\n",
       "      <th>Country_USA</th>\n",
       "    </tr>\n",
       "    <tr>\n",
       "      <th>Date</th>\n",
       "      <th></th>\n",
       "      <th></th>\n",
       "      <th></th>\n",
       "      <th></th>\n",
       "      <th></th>\n",
       "      <th></th>\n",
       "      <th></th>\n",
       "      <th></th>\n",
       "      <th></th>\n",
       "      <th></th>\n",
       "      <th></th>\n",
       "      <th></th>\n",
       "      <th></th>\n",
       "      <th></th>\n",
       "    </tr>\n",
       "  </thead>\n",
       "  <tbody>\n",
       "    <tr>\n",
       "      <th>11/1/1999</th>\n",
       "      <td>0.000988</td>\n",
       "      <td>1.796302</td>\n",
       "      <td>-0.821803</td>\n",
       "      <td>-0.808932</td>\n",
       "      <td>-0.384360</td>\n",
       "      <td>False</td>\n",
       "      <td>False</td>\n",
       "      <td>False</td>\n",
       "      <td>False</td>\n",
       "      <td>False</td>\n",
       "      <td>False</td>\n",
       "      <td>False</td>\n",
       "      <td>False</td>\n",
       "      <td>True</td>\n",
       "    </tr>\n",
       "    <tr>\n",
       "      <th>12/1/1999</th>\n",
       "      <td>0.000691</td>\n",
       "      <td>1.775151</td>\n",
       "      <td>-0.871149</td>\n",
       "      <td>-0.748722</td>\n",
       "      <td>-0.286125</td>\n",
       "      <td>False</td>\n",
       "      <td>False</td>\n",
       "      <td>False</td>\n",
       "      <td>False</td>\n",
       "      <td>False</td>\n",
       "      <td>False</td>\n",
       "      <td>False</td>\n",
       "      <td>False</td>\n",
       "      <td>True</td>\n",
       "    </tr>\n",
       "    <tr>\n",
       "      <th>1/1/2000</th>\n",
       "      <td>0.000592</td>\n",
       "      <td>1.769032</td>\n",
       "      <td>-0.871149</td>\n",
       "      <td>-0.746977</td>\n",
       "      <td>-0.346280</td>\n",
       "      <td>False</td>\n",
       "      <td>False</td>\n",
       "      <td>False</td>\n",
       "      <td>False</td>\n",
       "      <td>False</td>\n",
       "      <td>False</td>\n",
       "      <td>False</td>\n",
       "      <td>False</td>\n",
       "      <td>True</td>\n",
       "    </tr>\n",
       "    <tr>\n",
       "      <th>2/1/2000</th>\n",
       "      <td>0.000591</td>\n",
       "      <td>1.769869</td>\n",
       "      <td>-0.821803</td>\n",
       "      <td>-0.723416</td>\n",
       "      <td>-0.288399</td>\n",
       "      <td>False</td>\n",
       "      <td>False</td>\n",
       "      <td>False</td>\n",
       "      <td>False</td>\n",
       "      <td>False</td>\n",
       "      <td>False</td>\n",
       "      <td>False</td>\n",
       "      <td>False</td>\n",
       "      <td>True</td>\n",
       "    </tr>\n",
       "    <tr>\n",
       "      <th>3/1/2000</th>\n",
       "      <td>0.000690</td>\n",
       "      <td>1.764942</td>\n",
       "      <td>-0.871149</td>\n",
       "      <td>-0.695493</td>\n",
       "      <td>-0.261159</td>\n",
       "      <td>False</td>\n",
       "      <td>False</td>\n",
       "      <td>False</td>\n",
       "      <td>False</td>\n",
       "      <td>False</td>\n",
       "      <td>False</td>\n",
       "      <td>False</td>\n",
       "      <td>False</td>\n",
       "      <td>True</td>\n",
       "    </tr>\n",
       "  </tbody>\n",
       "</table>\n",
       "</div>"
      ],
      "text/plain": [
       "           realGdpRate  realPersInc  unempRate   indProd  retailSales  \\\n",
       "Date                                                                    \n",
       "11/1/1999     0.000988     1.796302  -0.821803 -0.808932    -0.384360   \n",
       "12/1/1999     0.000691     1.775151  -0.871149 -0.748722    -0.286125   \n",
       "1/1/2000      0.000592     1.769032  -0.871149 -0.746977    -0.346280   \n",
       "2/1/2000      0.000591     1.769869  -0.821803 -0.723416    -0.288399   \n",
       "3/1/2000      0.000690     1.764942  -0.871149 -0.695493    -0.261159   \n",
       "\n",
       "           Country_Denmark  Country_France  Country_Germany  Country_Japan  \\\n",
       "Date                                                                         \n",
       "11/1/1999            False           False            False          False   \n",
       "12/1/1999            False           False            False          False   \n",
       "1/1/2000             False           False            False          False   \n",
       "2/1/2000             False           False            False          False   \n",
       "3/1/2000             False           False            False          False   \n",
       "\n",
       "           Country_Korea  Country_Luxembourg  Country_Netherlands  Country_UK  \\\n",
       "Date                                                                            \n",
       "11/1/1999          False               False                False       False   \n",
       "12/1/1999          False               False                False       False   \n",
       "1/1/2000           False               False                False       False   \n",
       "2/1/2000           False               False                False       False   \n",
       "3/1/2000           False               False                False       False   \n",
       "\n",
       "           Country_USA  \n",
       "Date                    \n",
       "11/1/1999         True  \n",
       "12/1/1999         True  \n",
       "1/1/2000          True  \n",
       "2/1/2000          True  \n",
       "3/1/2000          True  "
      ]
     },
     "execution_count": 131,
     "metadata": {},
     "output_type": "execute_result"
    }
   ],
   "source": [
    "# declaring dummy variables based on the Country column\n",
    "OECD = pd.get_dummies(data=OECD, drop_first=True)\n",
    "# display top rows of the new data set\n",
    "OECD.head()"
   ]
  },
  {
   "cell_type": "code",
   "execution_count": 132,
   "metadata": {},
   "outputs": [],
   "source": [
    "# Define the features and the response variable\n",
    "RESPONSE = 'realGdpRate' # response\n",
    "FEATURES = OECD.columns[1:] # total features"
   ]
  },
  {
   "cell_type": "code",
   "execution_count": 133,
   "metadata": {},
   "outputs": [],
   "source": [
    "# Function to remove outlying values that lie > 3 standard deviations away from the mean\n",
    "def remove_outliers(df, cols, num_std):\n",
    "    for col in cols:\n",
    "        colMean = df[col].mean()\n",
    "        colStd = df[col].std()\n",
    "        \n",
    "        df = df[df[col] <= ((num_std * colStd) + colMean)]\n",
    "        \n",
    "    return df"
   ]
  },
  {
   "cell_type": "code",
   "execution_count": 134,
   "metadata": {},
   "outputs": [
    {
     "name": "stdout",
     "output_type": "stream",
     "text": [
      "<class 'pandas.core.frame.DataFrame'>\n",
      "Index: 2145 entries, 11/1/1999 to 9/1/2019\n",
      "Data columns (total 14 columns):\n",
      " #   Column               Non-Null Count  Dtype  \n",
      "---  ------               --------------  -----  \n",
      " 0   realGdpRate          2145 non-null   float64\n",
      " 1   realPersInc          2145 non-null   float64\n",
      " 2   unempRate            2145 non-null   float64\n",
      " 3   indProd              2145 non-null   float64\n",
      " 4   retailSales          2145 non-null   float64\n",
      " 5   Country_Denmark      2145 non-null   bool   \n",
      " 6   Country_France       2145 non-null   bool   \n",
      " 7   Country_Germany      2145 non-null   bool   \n",
      " 8   Country_Japan        2145 non-null   bool   \n",
      " 9   Country_Korea        2145 non-null   bool   \n",
      " 10  Country_Luxembourg   2145 non-null   bool   \n",
      " 11  Country_Netherlands  2145 non-null   bool   \n",
      " 12  Country_UK           2145 non-null   bool   \n",
      " 13  Country_USA          2145 non-null   bool   \n",
      "dtypes: bool(9), float64(5)\n",
      "memory usage: 183.9+ KB\n"
     ]
    }
   ],
   "source": [
    "NEW_OECD = remove_outliers(OECD, FEATURES, 3)\n",
    "NEW_OECD.head()\n",
    "NEW_OECD.info()"
   ]
  },
  {
   "cell_type": "code",
   "execution_count": 135,
   "metadata": {},
   "outputs": [],
   "source": [
    "# Split data into 80% training set and 20% testing set\n",
    "FEATURES = ['realPersInc', 'unempRate', 'indProd', 'retailSales']\n",
    "X_train, X_test, y_train, y_test = train_test_split(NEW_OECD.loc[:, FEATURES], NEW_OECD.loc[:, RESPONSE], test_size=0.2, random_state=0)\n"
   ]
  },
  {
   "cell_type": "code",
   "execution_count": 136,
   "metadata": {},
   "outputs": [
    {
     "data": {
      "text/plain": [
       "array([0.26921056, 0.19461586, 0.24954039, 0.28663319])"
      ]
     },
     "execution_count": 136,
     "metadata": {},
     "output_type": "execute_result"
    }
   ],
   "source": [
    "from sklearn.ensemble import RandomForestRegressor\n",
    "rf_model = RandomForestRegressor(random_state=0)\n",
    "rf_model.fit(X_train, y_train)\n",
    "\n",
    "importances = rf_model.feature_importances_\n",
    "indices = np.argsort(importances)\n",
    "\n",
    "importances"
   ]
  },
  {
   "cell_type": "code",
   "execution_count": 137,
   "metadata": {},
   "outputs": [
    {
     "data": {
      "text/plain": [
       "Text(0.5, 0, 'Importance Score')"
      ]
     },
     "execution_count": 137,
     "metadata": {},
     "output_type": "execute_result"
    },
    {
     "data": {
      "image/png": "[encoded data removed]",
      "text/plain": [
       "<Figure size 640x480 with 1 Axes>"
      ]
     },
     "metadata": {},
     "output_type": "display_data"
    }
   ],
   "source": [
    "plt.title('Feature Importances in the Random Forest Model')\n",
    "plt.barh(range(len(indices)), importances[indices], align='center')\n",
    "plt.yticks(range(len(indices)), [FEATURES[i] for i in indices])\n",
    "plt.xlabel('Importance Score')"
   ]
  },
  {
   "cell_type": "raw",
   "metadata": {},
   "source": [
    "O features were removed"
   ]
  },
  {
   "cell_type": "code",
   "execution_count": 138,
   "metadata": {},
   "outputs": [
    {
     "data": {
      "text/plain": [
       "Text(0.5, 1.0, 'Correlations Between Features')"
      ]
     },
     "execution_count": 138,
     "metadata": {},
     "output_type": "execute_result"
    },
    {
     "data": {
      "image/png": "[encoded data removed]",
      "text/plain": [
       "<Figure size 640x480 with 2 Axes>"
      ]
     },
     "metadata": {},
     "output_type": "display_data"
    }
   ],
   "source": [
    "sns.heatmap(OECD.loc[:, FEATURES].corr(), annot=True)\n",
    "plt.title(\"Correlations Between Features\")"
   ]
  },
  {
   "cell_type": "code",
   "execution_count": 139,
   "metadata": {},
   "outputs": [
    {
     "data": {
      "text/html": [
       "<div>\n",
       "<style scoped>\n",
       "    .dataframe tbody tr th:only-of-type {\n",
       "        vertical-align: middle;\n",
       "    }\n",
       "\n",
       "    .dataframe tbody tr th {\n",
       "        vertical-align: top;\n",
       "    }\n",
       "\n",
       "    .dataframe thead th {\n",
       "        text-align: right;\n",
       "    }\n",
       "</style>\n",
       "<table border=\"1\" class=\"dataframe\">\n",
       "  <thead>\n",
       "    <tr style=\"text-align: right;\">\n",
       "      <th></th>\n",
       "      <th>Features</th>\n",
       "      <th>VIF</th>\n",
       "    </tr>\n",
       "  </thead>\n",
       "  <tbody>\n",
       "    <tr>\n",
       "      <th>0</th>\n",
       "      <td>realPersInc</td>\n",
       "      <td>1.466348</td>\n",
       "    </tr>\n",
       "    <tr>\n",
       "      <th>1</th>\n",
       "      <td>unempRate</td>\n",
       "      <td>1.001858</td>\n",
       "    </tr>\n",
       "    <tr>\n",
       "      <th>2</th>\n",
       "      <td>indProd</td>\n",
       "      <td>1.189037</td>\n",
       "    </tr>\n",
       "    <tr>\n",
       "      <th>3</th>\n",
       "      <td>retailSales</td>\n",
       "      <td>1.302709</td>\n",
       "    </tr>\n",
       "  </tbody>\n",
       "</table>\n",
       "</div>"
      ],
      "text/plain": [
       "      Features       VIF\n",
       "0  realPersInc  1.466348\n",
       "1    unempRate  1.001858\n",
       "2      indProd  1.189037\n",
       "3  retailSales  1.302709"
      ]
     },
     "execution_count": 139,
     "metadata": {},
     "output_type": "execute_result"
    }
   ],
   "source": [
    "# Compute VIF to identify high correlations b/w features\n",
    "from statsmodels.stats.outliers_influence import variance_inflation_factor\n",
    "\n",
    "pd.DataFrame({'Features': FEATURES, 'VIF': [variance_inflation_factor(OECD.loc[:, FEATURES].values, i) for i in range(len(FEATURES))]})"
   ]
  },
  {
   "cell_type": "code",
   "execution_count": 140,
   "metadata": {},
   "outputs": [],
   "source": [
    "FEATURES_TO_DROP=[FEATURES[i] for i in range(len(FEATURES)) if variance_inflation_factor(NEW_OECD.loc[:, FEATURES].values, i) >= 5] # features with > 5 VIF\n",
    "NEW_OECD = NEW_OECD.drop(columns=FEATURES_TO_DROP) \n",
    "X_train = X_train.drop(columns = FEATURES_TO_DROP)\n",
    "X_test = X_test.drop(columns= FEATURES_TO_DROP)\n",
    "FEATURES = [f for f in FEATURES if f not in FEATURES_TO_DROP]\n",
    "\n",
    "linear_model = LinearRegression()\n",
    "linear_model = linear_model.fit(X_train, y_train)"
   ]
  },
  {
   "cell_type": "code",
   "execution_count": 141,
   "metadata": {},
   "outputs": [
    {
     "name": "stdout",
     "output_type": "stream",
     "text": [
      "R-squared:  -0.013050911597726866\n",
      "Adjusted R-squared:  -0.022607995669403413\n",
      "MAE:  0.0010423808390381652\n",
      "RMSE:  0.0016451827220416502\n"
     ]
    },
    {
     "name": "stderr",
     "output_type": "stream",
     "text": [
      "/Users/divitpurwar/opt/anaconda3/lib/python3.9/site-packages/sklearn/metrics/_regression.py:492: FutureWarning: 'squared' is deprecated in version 1.4 and will be removed in 1.6. To calculate the root mean squared error, use the function'root_mean_squared_error'.\n",
      "  warnings.warn(\n"
     ]
    }
   ],
   "source": [
    "from sklearn.metrics import mean_absolute_error, mean_squared_error, r2_score\n",
    "y_test_pred_multi = linear_model.predict(X_test)\n",
    "r2_multi = r2_score(y_test, y_test_pred_multi)\n",
    "adj_r2_multi = 1 - (1-r2_multi) * (len(y_test)-1)/(len(y_test)-X_test.shape[1]-1)\n",
    "mae_multi = mean_absolute_error(y_test, y_test_pred_multi)\n",
    "rmse_multi = mean_squared_error(y_test, y_test_pred_multi, squared=False)\n",
    "\n",
    "print('R-squared: ', r2_multi)\n",
    "print('Adjusted R-squared: ', adj_r2_multi)\n",
    "print('MAE: ', mae_multi)\n",
    "print('RMSE: ', rmse_multi)"
   ]
  },
  {
   "cell_type": "markdown",
   "metadata": {},
   "source": [
    "g) Please wirte a code piece to fit a Lasso Regression to the data, then print the resulting Adjusted R-squared, MAE, and RMSE metrics."
   ]
  },
  {
   "cell_type": "code",
   "execution_count": 142,
   "metadata": {},
   "outputs": [],
   "source": [
    "# Fit lasso regression model\n",
    "from sklearn.linear_model import LassoCV\n",
    "lasso_model = LassoCV(cv=5) # uses scoring='r2'by default\n",
    "lasso_model = lasso_model.fit(X_train, y_train)"
   ]
  },
  {
   "cell_type": "code",
   "execution_count": 143,
   "metadata": {},
   "outputs": [
    {
     "name": "stdout",
     "output_type": "stream",
     "text": [
      "R-squared:  -0.009527600880577136\n",
      "Adjusted R-squared:  -0.019051446171903352\n",
      "The MAE is:  0.001037500413172828\n",
      "The RMSE is:  0.0016423193226970554\n"
     ]
    },
    {
     "name": "stderr",
     "output_type": "stream",
     "text": [
      "/Users/divitpurwar/opt/anaconda3/lib/python3.9/site-packages/sklearn/metrics/_regression.py:492: FutureWarning: 'squared' is deprecated in version 1.4 and will be removed in 1.6. To calculate the root mean squared error, use the function'root_mean_squared_error'.\n",
      "  warnings.warn(\n"
     ]
    }
   ],
   "source": [
    "y_test_pred_lasso = lasso_model.predict(X_test)\n",
    "r2_lasso = r2_score(y_test, y_test_pred_lasso)\n",
    "adj_r2_lasso = 1 - (1-r2_lasso) * (len(y_test)-1)/(len(y_test)-X_test.shape[1]-1)\n",
    "mae_lasso = mean_absolute_error(y_test, y_test_pred_lasso)\n",
    "rmse_lasso = mean_squared_error(y_test, y_test_pred_lasso, squared=False)\n",
    "\n",
    "print('R-squared: ', r2_lasso)\n",
    "print('Adjusted R-squared: ', adj_r2_lasso)\n",
    "print('The MAE is: ', mae_lasso)\n",
    "print('The RMSE is: ', rmse_lasso)\n"
   ]
  },
  {
   "cell_type": "code",
   "execution_count": 144,
   "metadata": {},
   "outputs": [],
   "source": [
    "# Fit ridge regression model\n",
    "from sklearn.linear_model import RidgeCV\n",
    "ridge_model = RidgeCV(cv=5, scoring='r2')\n",
    "ridge_model = ridge_model.fit(X_train, y_train)"
   ]
  },
  {
   "cell_type": "code",
   "execution_count": 145,
   "metadata": {},
   "outputs": [
    {
     "name": "stdout",
     "output_type": "stream",
     "text": [
      "R-squared:  -0.012600108084166228\n",
      "Adjusted R-squared:  -0.0221529392925075\n",
      "The MAE is:  0.0010418245646839658\n",
      "The RMSE is:  0.0016448166315176285\n"
     ]
    },
    {
     "name": "stderr",
     "output_type": "stream",
     "text": [
      "/Users/divitpurwar/opt/anaconda3/lib/python3.9/site-packages/sklearn/metrics/_regression.py:492: FutureWarning: 'squared' is deprecated in version 1.4 and will be removed in 1.6. To calculate the root mean squared error, use the function'root_mean_squared_error'.\n",
      "  warnings.warn(\n"
     ]
    }
   ],
   "source": [
    "y_test_pred_ridge = ridge_model.predict(X_test)\n",
    "r2_ridge = r2_score(y_test, y_test_pred_ridge)\n",
    "adj_r2_ridge = 1 - (1-r2_ridge) * (len(y_test)-1)/(len(y_test)-X_test.shape[1]-1)\n",
    "mae_ridge = mean_absolute_error(y_test, y_test_pred_ridge)\n",
    "rmse_ridge = mean_squared_error(y_test, y_test_pred_ridge, squared=False)\n",
    "\n",
    "print('R-squared: ', r2_ridge)\n",
    "print('Adjusted R-squared: ', adj_r2_ridge)\n",
    "print('The MAE is: ', mae_ridge)\n",
    "print('The RMSE is: ', rmse_ridge)\n"
   ]
  },
  {
   "cell_type": "code",
   "execution_count": 146,
   "metadata": {},
   "outputs": [],
   "source": [
    "# Fit elastic net regression model\n",
    "from sklearn.linear_model import ElasticNetCV\n",
    "elasticNet_model = ElasticNetCV(cv=5)\n",
    "elasticNet_model = elasticNet_model.fit(X_train, y_train)\n"
   ]
  },
  {
   "cell_type": "code",
   "execution_count": 147,
   "metadata": {},
   "outputs": [
    {
     "name": "stdout",
     "output_type": "stream",
     "text": [
      "R-squared:  -0.00952684204272658\n",
      "Adjusted R-squared:  -0.01905068017520528\n",
      "The MAE is:  0.0010374993344750515\n",
      "The RMSE is:  0.001642318705450782\n"
     ]
    },
    {
     "name": "stderr",
     "output_type": "stream",
     "text": [
      "/Users/divitpurwar/opt/anaconda3/lib/python3.9/site-packages/sklearn/metrics/_regression.py:492: FutureWarning: 'squared' is deprecated in version 1.4 and will be removed in 1.6. To calculate the root mean squared error, use the function'root_mean_squared_error'.\n",
      "  warnings.warn(\n"
     ]
    }
   ],
   "source": [
    "y_test_pred_elasticNet = elasticNet_model.predict(X_test)\n",
    "r2_elasticNet = r2_score(y_test, y_test_pred_elasticNet)\n",
    "adj_r2_elasticNet = 1 - (1-r2_elasticNet) * (len(y_test)-1)/(len(y_test)-X_test.shape[1]-1)\n",
    "mae_elasticNet = mean_absolute_error(y_test, y_test_pred_elasticNet)\n",
    "rmse_elasticNet = mean_squared_error(y_test, y_test_pred_elasticNet, squared=False)\n",
    "\n",
    "print('R-squared: ', r2_elasticNet)\n",
    "print('Adjusted R-squared: ', adj_r2_elasticNet)\n",
    "print('The MAE is: ', mae_elasticNet)\n",
    "print('The RMSE is: ', rmse_elasticNet)"
   ]
  },
  {
   "cell_type": "code",
   "execution_count": 148,
   "metadata": {},
   "outputs": [
    {
     "data": {
      "text/html": [
       "<div>\n",
       "<style scoped>\n",
       "    .dataframe tbody tr th:only-of-type {\n",
       "        vertical-align: middle;\n",
       "    }\n",
       "\n",
       "    .dataframe tbody tr th {\n",
       "        vertical-align: top;\n",
       "    }\n",
       "\n",
       "    .dataframe thead th {\n",
       "        text-align: right;\n",
       "    }\n",
       "</style>\n",
       "<table border=\"1\" class=\"dataframe\">\n",
       "  <thead>\n",
       "    <tr style=\"text-align: right;\">\n",
       "      <th></th>\n",
       "      <th>Model</th>\n",
       "      <th>R-squared</th>\n",
       "      <th>Adj R-squared</th>\n",
       "      <th>MAE</th>\n",
       "      <th>RMSE</th>\n",
       "    </tr>\n",
       "  </thead>\n",
       "  <tbody>\n",
       "    <tr>\n",
       "      <th>0</th>\n",
       "      <td>Multiple Linear Regression</td>\n",
       "      <td>-0.013051</td>\n",
       "      <td>-0.022608</td>\n",
       "      <td>0.001042</td>\n",
       "      <td>0.001645</td>\n",
       "    </tr>\n",
       "    <tr>\n",
       "      <th>1</th>\n",
       "      <td>Lasso Regression</td>\n",
       "      <td>-0.009528</td>\n",
       "      <td>-0.019051</td>\n",
       "      <td>0.001038</td>\n",
       "      <td>0.001642</td>\n",
       "    </tr>\n",
       "    <tr>\n",
       "      <th>2</th>\n",
       "      <td>Ridge Regression</td>\n",
       "      <td>-0.012600</td>\n",
       "      <td>-0.022153</td>\n",
       "      <td>0.001042</td>\n",
       "      <td>0.001645</td>\n",
       "    </tr>\n",
       "    <tr>\n",
       "      <th>3</th>\n",
       "      <td>Elastic Net Regression</td>\n",
       "      <td>-0.009527</td>\n",
       "      <td>-0.019051</td>\n",
       "      <td>0.001037</td>\n",
       "      <td>0.001642</td>\n",
       "    </tr>\n",
       "  </tbody>\n",
       "</table>\n",
       "</div>"
      ],
      "text/plain": [
       "                        Model  R-squared  Adj R-squared       MAE      RMSE\n",
       "0  Multiple Linear Regression  -0.013051      -0.022608  0.001042  0.001645\n",
       "1            Lasso Regression  -0.009528      -0.019051  0.001038  0.001642\n",
       "2            Ridge Regression  -0.012600      -0.022153  0.001042  0.001645\n",
       "3      Elastic Net Regression  -0.009527      -0.019051  0.001037  0.001642"
      ]
     },
     "execution_count": 148,
     "metadata": {},
     "output_type": "execute_result"
    }
   ],
   "source": [
    "models = ['Multiple Linear Regression', 'Lasso Regression', 'Ridge Regression', 'Elastic Net Regression']\n",
    "R_squared = [r2_multi, r2_lasso, r2_ridge, r2_elasticNet]\n",
    "Adj_R_squared = [adj_r2_multi, adj_r2_lasso, adj_r2_ridge, adj_r2_elasticNet]\n",
    "MAE = [mae_multi, mae_lasso, mae_ridge, mae_elasticNet]\n",
    "RMSE = [rmse_multi, rmse_lasso, rmse_ridge, rmse_elasticNet]\n",
    "\n",
    "# Output model performance table\n",
    "modelTable = pd.DataFrame({'Model':models, 'R-squared': R_squared, 'Adj R-squared':Adj_R_squared, 'MAE': MAE, 'RMSE':RMSE})\n",
    "modelTable"
   ]
  },
  {
   "cell_type": "markdown",
   "metadata": {},
   "source": [
    "Comparing the 4 models, Elastic Net Regression is the best because it has the lowest MAE and RMSE values of the 4 regression models, implying it has the highest accuracy. "
   ]
  },
  {
   "cell_type": "markdown",
   "metadata": {},
   "source": [
    "y = -0.00010228071075094608 - (0.00000000) * x + (0.000159135479) * x2 + (0.000258609371) * x3 + (5.22446566e-05) * x4\n",
    "\n",
    "=>\n",
    "y = -0.00010228071075094608 + (0.000159135479) * $x_2$ + (0.000258609371) * $x_3$ + (5.22446566e-05) * $x_4$\n"
   ]
  },
  {
   "cell_type": "code",
   "execution_count": 152,
   "metadata": {},
   "outputs": [
    {
     "name": "stdout",
     "output_type": "stream",
     "text": [
      "intercept:  -0.00010228071075094608\n",
      "Coefficient:  [-0.00000000e+00  1.59135479e-04  2.58609371e-04  5.22446566e-05]\n"
     ]
    }
   ],
   "source": [
    "# Print best model intercept and coefficients here\n",
    "print(\"intercept: \", elasticNet_model.intercept_)\n",
    "print(\"Coefficient: \", elasticNet_model.coef_)"
   ]
  },
  {
   "cell_type": "markdown",
   "metadata": {},
   "source": [
    "To improve the adjusted $R^2$ value, different features outside of the one's listed can be derived/found which can capture additional informations and patterns from the data. Additionally, using PCA can be another good technique. Using PCA can both reduce noise and redundancy in data. Another thing that can improve the Adjusted $R^2$ is fine tuning the hyperparameter alpha variable. \n"
   ]
  }
 ],
 "metadata": {
  "hide_input": false,
  "kernelspec": {
   "display_name": "Python 3 (ipykernel)",
   "language": "python",
   "name": "python3"
  },
  "language_info": {
   "codemirror_mode": {
    "name": "ipython",
    "version": 3
   },
   "file_extension": ".py",
   "mimetype": "text/x-python",
   "name": "python",
   "nbconvert_exporter": "python",
   "pygments_lexer": "ipython3",
   "version": "3.9.13"
  },
  "toc": {
   "base_numbering": 1,
   "nav_menu": {},
   "number_sections": true,
   "sideBar": true,
   "skip_h1_title": true,
   "title_cell": "Table of Contents",
   "title_sidebar": "Contents",
   "toc_cell": false,
   "toc_position": {},
   "toc_section_display": true,
   "toc_window_display": true
  }
 },
 "nbformat": 4,
 "nbformat_minor": 2
}
